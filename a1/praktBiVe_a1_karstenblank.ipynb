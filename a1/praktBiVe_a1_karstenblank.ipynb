{
 "cells": [
  {
   "cell_type": "code",
   "execution_count": 1,
   "metadata": {},
   "outputs": [],
   "source": [
    "import cv2\n",
    "import numpy as np"
   ]
  },
  {
   "cell_type": "code",
   "execution_count": 5,
   "metadata": {},
   "outputs": [
    {
     "name": "stdout",
     "output_type": "stream",
     "text": [
      "1\n",
      "x: 241   y: 68\n",
      "2\n",
      "x: 556   y: 63\n",
      "3\n",
      "x: 492   y: 205\n",
      "4\n",
      "x: 428   y: 197\n",
      "[[241.  68.]\n",
      " [556.  63.]\n",
      " [492. 205.]\n",
      " [428. 197.]]\n",
      "[[   0.    0.]\n",
      " [1000.    0.]\n",
      " [1000.  500.]\n",
      " [   0.  500.]]\n"
     ]
    }
   ],
   "source": [
    "#Definition von globalen Variablen, Laden des Ursprungsbildes\n",
    "breite_neu = 1000\n",
    "hoehe_neu= 500\n",
    "img = cv2.imread('Waldo.png')\n",
    "pgon=[]\n",
    "cv2.namedWindow('image')\n",
    "\n",
    "#Funktion für Maus-Klick\n",
    "def draw_circle(event,x,y,flags,param):\n",
    "    if event == cv2.EVENT_LBUTTONDOWN:\n",
    "        \n",
    "        #Prüfen ob schon 4x geklickt, falls nein -> Malen des Punkts und Abspeichern der Koordinaten in Liste\n",
    "        if len(pgon) < 4:\n",
    "            cv2.circle(img,(x,y),4,(0,0,255),-1)\n",
    "            pgon.append([x,y])\n",
    "            print(len(pgon))       #print war nur zum Debuggen\n",
    "            print(\"x:\",x,\"  y:\",y) #print war nur zum Debuggen\n",
    "            \n",
    "        #Falls ja -> Fehlermeldung\n",
    "        else:\n",
    "            print(\"Too many arguments.\")\n",
    "\n",
    "#Initialisieren der Maus-Funktion für entsprechendes image-Fenster            \n",
    "cv2.setMouseCallback('image',draw_circle)\n",
    "\n",
    "#Dauer-Schleife\n",
    "while True:\n",
    "    #Bild anzeigen und Tastatur abfragen\n",
    "    cv2.imshow('image',img)\n",
    "    key = cv2.waitKey(1)\n",
    "    \n",
    "    #Falls \"s\" (=115) eingegeben wird:\n",
    "    if key == 115:\n",
    "        #Prüfung, dass 4 Punkte gewählt wurden\n",
    "        if len(pgon) < 4:\n",
    "            print(\"Zunächst 4 Punkte wählen.\")\n",
    "            \n",
    "        #Falls 4 Punkte gewählt, dann werden die 4 Punkt-Koordinaten in eine numpy-Matrix überführt (m1)\n",
    "        #wichtig: Reihenfolge der Punkte von oben links bis unten links analog zur \"gemappten\"-Matrix des neuen Bildes (m2)\n",
    "        else:\n",
    "            obli = [pgon[0][0],pgon[0][1]]\n",
    "            obre = [pgon[1][0],pgon[1][1]]\n",
    "            unre = [pgon[2][0],pgon[2][1]]\n",
    "            unli = [pgon[3][0],pgon[3][1]]\n",
    "            \n",
    "            m1=np.float32([obli,obre,unre,unli])\n",
    "            m2=np.float32([[0,0],[breite_neu,0],[breite_neu,hoehe_neu],[0,hoehe_neu]])\n",
    "            \n",
    "            #mit getPerspectiveTransform werden die Polygon-Koordinaten auf die Koordinaten des neuen rechteckigen Bildes gemappt\n",
    "            #mit warpPerspective wird dann das entsprechende neue Bild erstellt und \n",
    "            #anschließend mit imwrite gespeichert und imshow angezeigt\n",
    "            m3=cv2.getPerspectiveTransform(m1,m2)\n",
    "            new_image=cv2.warpPerspective(img,m3,(breite_neu,hoehe_neu))\n",
    "            cv2.imwrite('Waldo_neu.png',new_image)\n",
    "            cv2.imshow('image_new',new_image)\n",
    "            \n",
    "            print(m1)\n",
    "            print(m2)\n",
    "    \n",
    "    #Falls \"q\" (=113) eingegeben wird, wird Programm über break beendet\n",
    "    if key == 113:\n",
    "        break\n",
    "\n",
    "cv2.destroyAllWindows()"
   ]
  },
  {
   "cell_type": "code",
   "execution_count": null,
   "metadata": {},
   "outputs": [],
   "source": []
  }
 ],
 "metadata": {
  "kernelspec": {
   "display_name": "Python 3",
   "language": "python",
   "name": "python3"
  },
  "language_info": {
   "codemirror_mode": {
    "name": "ipython",
    "version": 3
   },
   "file_extension": ".py",
   "mimetype": "text/x-python",
   "name": "python",
   "nbconvert_exporter": "python",
   "pygments_lexer": "ipython3",
   "version": "3.7.3"
  }
 },
 "nbformat": 4,
 "nbformat_minor": 2
}
